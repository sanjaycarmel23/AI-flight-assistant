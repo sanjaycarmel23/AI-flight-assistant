{
 "cells": [
  {
   "cell_type": "markdown",
   "id": "ddfa9ae6-69fe-444a-b994-8c4c5970a7ec",
   "metadata": {},
   "source": [
    "# Project - Airline AI Assistant\n",
    "\n",
    "We'll now bring together what we've learned to make an AI Customer Support assistant for an Airline"
   ]
  },
  {
   "cell_type": "code",
   "execution_count": 7,
   "id": "8b50bbe2-c0b1-49c3-9a5c-1ba7efa2bcb4",
   "metadata": {},
   "outputs": [],
   "source": [
    "# imports\n",
    "\n",
    "import os\n",
    "import json\n",
    "import sqlite3\n",
    "from dotenv import load_dotenv\n",
    "from openai import OpenAI\n",
    "import gradio as gr"
   ]
  },
  {
   "cell_type": "code",
   "execution_count": 5,
   "id": "747e8786-9da8-4342-b6c9-f5f69c2e22ae",
   "metadata": {},
   "outputs": [
    {
     "name": "stdout",
     "output_type": "stream",
     "text": [
      "Gemini API key looks good so far\n"
     ]
    }
   ],
   "source": [
    "\n",
    "load_dotenv(override=True)\n",
    "google_api_key = os.getenv('GOOGLE_API_KEY')\n",
    "\n",
    "if google_api_key and google_api_key.startswith('AIza'):\n",
    "    print(\"Gemini API key looks good so far\")\n",
    "else:\n",
    "    raise ValueError(\"Problem with Gemini API key – check your .env\")\n",
    "\n",
    "GEMINI_BASE_URL = \"https://generativelanguage.googleapis.com/v1beta/openai/\"\n",
    "gemini = OpenAI(base_url=GEMINI_BASE_URL, api_key=google_api_key)\n",
    "\n",
    "MODEL = \"gemini-2.5-flash-lite\"  #"
   ]
  },
  {
   "cell_type": "code",
   "execution_count": 6,
   "id": "0a521d84-d07c-49ab-a0df-d6451499ed97",
   "metadata": {},
   "outputs": [],
   "source": [
    "system_message = \"\"\"\n",
    "You are a helpful assistant for an Airline called FlightAI.\n",
    "Give short, courteous answers, no more than 1 sentence.\n",
    "Always be accurate. If you don't know the answer, say so.\n",
    "\"\"\""
   ]
  },
  {
   "cell_type": "code",
   "execution_count": 12,
   "id": "99acff0f",
   "metadata": {},
   "outputs": [],
   "source": [
    "DB = \"prices.db\"\n",
    "\n",
    "with sqlite3.connect(DB) as conn:\n",
    "    cursor = conn.cursor()\n",
    "    cursor.execute('CREATE TABLE IF NOT EXISTS prices (city TEXT PRIMARY KEY, price REAL)')\n",
    "    conn.commit()"
   ]
  },
  {
   "cell_type": "code",
   "execution_count": 13,
   "id": "084e76cc",
   "metadata": {},
   "outputs": [],
   "source": [
    "def get_ticket_price(city):\n",
    "    print(f\"DATABASE TOOL CALLED: Getting price for {city}\", flush=True)\n",
    "    with sqlite3.connect(DB) as conn:\n",
    "        cursor = conn.cursor()\n",
    "        cursor.execute('SELECT price FROM prices WHERE city = ?', (city.lower(),))\n",
    "        result = cursor.fetchone()\n",
    "        return f\"Ticket price to {city} is ${result[0]}\" if result else \"No price data available for this city\""
   ]
  },
  {
   "cell_type": "code",
   "execution_count": 14,
   "id": "61a2a15d-b559-4844-b377-6bd5cb4949f6",
   "metadata": {},
   "outputs": [],
   "source": [
    "DB = \"prices.db\"\n",
    "\n",
    "def set_ticket_price(city, price):\n",
    "    \"\"\"Insert or update a ticket price in the database\"\"\"\n",
    "    with sqlite3.connect(DB) as conn:\n",
    "        cursor = conn.cursor()\n",
    "        cursor.execute(\n",
    "            'INSERT INTO prices (city, price) VALUES (?, ?) ON CONFLICT(city) DO UPDATE SET price = ?',\n",
    "            (city.lower(), price, price)\n",
    "        )\n",
    "        conn.commit()\n",
    "    print(f\"[DB] Updated {city} = ${price}\")\n",
    "    return f\"Price for {city} set to ${price}\""
   ]
  },
  {
   "cell_type": "code",
   "execution_count": 15,
   "id": "0696acb1-0b05-4dc2-80d5-771be04f1fb2",
   "metadata": {},
   "outputs": [],
   "source": [
    "def handle_tool_calls(message):\n",
    "    responses = []\n",
    "    for tool_call in message.tool_calls:\n",
    "        fn_name = tool_call.function.name\n",
    "        args = json.loads(tool_call.function.arguments)\n",
    "\n",
    "        print(f\"[LLM] Requested tool: {fn_name}, args={args}\")\n",
    "\n",
    "        if fn_name == \"get_ticket_price\":\n",
    "            city = args.get(\"destination_city\")\n",
    "            result = get_ticket_price(city)\n",
    "        elif fn_name == \"set_ticket_price\":\n",
    "            city = args.get(\"destination_city\")\n",
    "            price = args.get(\"price\")\n",
    "            result = set_ticket_price(city, price)\n",
    "        else:\n",
    "            result = f\"Unknown tool: {fn_name}\"\n",
    "\n",
    "        responses.append({\n",
    "            \"role\": \"tool\",\n",
    "            \"content\": result,\n",
    "            \"tool_call_id\": tool_call.id\n",
    "        })\n",
    "\n",
    "        print(f\"[TOOL] Response to LLM: {result}\")\n",
    "\n",
    "    return responses\n"
   ]
  },
  {
   "cell_type": "code",
   "execution_count": 16,
   "id": "80ca4e09-6287-4d3f-997d-fa6afbcf6c85",
   "metadata": {},
   "outputs": [],
   "source": [
    "def chat(message, history):\n",
    "    history = [{\"role\": h[\"role\"], \"content\": h[\"content\"]} for h in history]\n",
    "    messages = [{\"role\": \"system\", \"content\": system_message}] + history + [{\"role\": \"user\", \"content\": message}]\n",
    "    \n",
    "    response = gemini.chat.completions.create(model=MODEL, messages=messages, tools=tools)\n",
    "\n",
    "    if response.choices[0].finish_reason == \"tool_calls\":\n",
    "        message = response.choices[0].message\n",
    "        responses = handle_tool_calls(message)\n",
    "        messages.append(message)\n",
    "        messages.extend(responses)\n",
    "        response = gemini.chat.completions.create(model=MODEL, messages=messages)\n",
    "\n",
    "    return response.choices[0].message.content\n"
   ]
  },
  {
   "cell_type": "code",
   "execution_count": null,
   "id": "4afceded-7178-4c05-8fa6-9f2085e6a344",
   "metadata": {},
   "outputs": [
    {
     "name": "stdout",
     "output_type": "stream",
     "text": [
      "* Running on local URL:  http://127.0.0.1:7861\n",
      "* To create a public link, set `share=True` in `launch()`.\n"
     ]
    },
    {
     "data": {
      "text/html": [
       "<div><iframe src=\"http://127.0.0.1:7861/\" width=\"100%\" height=\"500\" allow=\"autoplay; camera; microphone; clipboard-read; clipboard-write;\" frameborder=\"0\" allowfullscreen></iframe></div>"
      ],
      "text/plain": [
       "<IPython.core.display.HTML object>"
      ]
     },
     "metadata": {},
     "output_type": "display_data"
    },
    {
     "data": {
      "text/plain": []
     },
     "execution_count": 17,
     "metadata": {},
     "output_type": "execute_result"
    },
    {
     "name": "stdout",
     "output_type": "stream",
     "text": [
      "[LLM] Requested tool: get_ticket_price, args={'destination_city': 'tokyo'}\n",
      "DATABASE TOOL CALLED: Getting price for tokyo\n",
      "[TOOL] Response to LLM: No price data available for this city\n",
      "[LLM] Requested tool: set_ticket_price, args={'destination_city': 'tokyo', 'price': 400}\n",
      "[DB] Updated tokyo = $400\n",
      "[TOOL] Response to LLM: Price for tokyo set to $400\n",
      "[LLM] Requested tool: set_ticket_price, args={'destination_city': 'Berlin', 'price': 300}\n",
      "[DB] Updated Berlin = $300\n",
      "[TOOL] Response to LLM: Price for Berlin set to $300\n",
      "[LLM] Requested tool: set_ticket_price, args={'destination_city': 'London', 'price': 100}\n",
      "[DB] Updated London = $100\n",
      "[TOOL] Response to LLM: Price for London set to $100\n",
      "[LLM] Requested tool: set_ticket_price, args={'destination_city': 'India', 'price': 200}\n",
      "[DB] Updated India = $200\n",
      "[TOOL] Response to LLM: Price for India set to $200\n",
      "[LLM] Requested tool: get_ticket_price, args={'destination_city': 'london'}\n",
      "DATABASE TOOL CALLED: Getting price for london\n",
      "[TOOL] Response to LLM: Ticket price to london is $100.0\n"
     ]
    }
   ],
   "source": [
    "gr.ChatInterface(fn=chat, type=\"messages\").launch()"
   ]
  }
 ],
 "metadata": {
  "kernelspec": {
   "display_name": ".venv",
   "language": "python",
   "name": "python3"
  },
  "language_info": {
   "codemirror_mode": {
    "name": "ipython",
    "version": 3
   },
   "file_extension": ".py",
   "mimetype": "text/x-python",
   "name": "python",
   "nbconvert_exporter": "python",
   "pygments_lexer": "ipython3",
   "version": "3.12.12"
  }
 },
 "nbformat": 4,
 "nbformat_minor": 5
}
